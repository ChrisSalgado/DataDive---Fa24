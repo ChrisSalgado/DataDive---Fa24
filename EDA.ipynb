{
 "cells": [
  {
   "cell_type": "code",
   "execution_count": 56,
   "metadata": {},
   "outputs": [],
   "source": [
    "import pandas as pd \n",
    "import matplotlib.pyplot as plt \n",
    "import seaborn as sns; sns.set()\n",
    "import numpy as np\n",
    "from sklearn.model_selection import train_test_split\n",
    "from sklearn.linear_model import LinearRegression\n",
    "from sklearn.metrics import mean_squared_error, r2_score\n",
    "\n",
    "pd.options.display.max_columns = None"
   ]
  },
  {
   "cell_type": "code",
   "execution_count": 57,
   "metadata": {},
   "outputs": [],
   "source": [
    "gl_19_20 = pd.read_csv('Clean Datasets/Clean-19-20-Game-Log.csv')\n",
    "gl_19_20.insert(2, 'Season', '2019-2020')\n",
    "gl_20_21 = pd.read_csv('Clean Datasets/Clean-20-21-Game-Log.csv')\n",
    "gl_20_21.insert(2, 'Season', '2020-2021')\n",
    "gl_21_22 = pd.read_csv('Clean Datasets/Clean-21-22-Game-Log.csv')\n",
    "gl_21_22.insert(2, 'Season', '2021-2022')\n",
    "gl_22_23 = pd.read_csv('Clean Datasets/Clean-22-23-Game-log.csv')\n",
    "gl_22_23.insert(2, 'Season', '2022-2023')\n",
    "gl_23_24 = pd.read_csv('Clean Datasets/Clean-23-24-Game-Log.csv')\n",
    "gl_23_24.insert(2, 'Season', '2023-2024')\n",
    "\n",
    "team_opp_19_20 = pd.read_csv('Clean Datasets/Clean-19-20-PerGameTeamAndOpponentStats.csv')\n",
    "team_opp_20_21 = pd.read_csv('Clean Datasets/Clean-20-21-Team&Opponent-Per-Game.csv')\n",
    "team_opp_21_22 = pd.read_csv('Clean Datasets/Clean-21-22-Team&Opp-Per-Game.csv')\n",
    "team_opp_22_23 = pd.read_csv('Clean Datasets/Clean-22-23-Team&Opponents.csv')\n",
    "team_opp_23_24 = pd.read_csv('Clean Datasets/Clean-23-24-Team&Opp-Per-Game.csv')\n",
    "\n",
    "roster_19_20 = pd.read_csv('Clean Datasets/Clean-19-20-roster.csv')\n",
    "roster_20_21 = pd.read_csv('Clean Datasets/Clean-20-21-Roster.csv')\n",
    "roster_21_22 = pd.read_csv('Clean Datasets/Clean-21-22-Roster.csv')\n",
    "roster_22_23 = pd.read_csv('Clean Datasets/Clean-22-23-Roster.csv')\n",
    "roster_23_24 = pd.read_csv('Clean Datasets/Clean-23-24-Roster.csv')"
   ]
  },
  {
   "cell_type": "code",
   "execution_count": 58,
   "metadata": {},
   "outputs": [],
   "source": [
    "# Correct the Win Streak and Lose Streak feature\n",
    "\n",
    "def add_streak(game_log):\n",
    "    # Ensure the Date column is in datetime format and sorted\n",
    "    game_log['Date'] = pd.to_datetime(game_log['Date'])\n",
    "    game_log = game_log.sort_values(by='Date').reset_index(drop=True)\n",
    "\n",
    "    # Initialize streak columns\n",
    "    win_streak = []\n",
    "    lose_streak = []\n",
    "\n",
    "    # Track streak counters\n",
    "    current_win_streak = 0\n",
    "    current_lose_streak = 0\n",
    "\n",
    "    # Iterate over each row in the game log\n",
    "    for _, row in game_log.iterrows():\n",
    "        if row['Result'] == 'W':  # If the team won\n",
    "            win_streak.append(current_win_streak)\n",
    "            lose_streak.append(current_lose_streak)\n",
    "            current_win_streak += 1\n",
    "            current_lose_streak = 0\n",
    "        else:  # If the team lost\n",
    "            win_streak.append(current_win_streak)\n",
    "            lose_streak.append(current_lose_streak)\n",
    "            current_lose_streak += 1\n",
    "            current_win_streak = 0\n",
    "\n",
    "    # Add streak columns to the DataFrame\n",
    "    game_log['Win Streak'] = win_streak\n",
    "    game_log['Lose Streak'] = lose_streak\n",
    "\n",
    "    return game_log\n",
    "\n",
    "gl_19_20 = add_streak(gl_19_20)\n",
    "gl_20_21 = add_streak(gl_20_21)\n",
    "gl_21_20 = add_streak(gl_20_21)\n",
    "gl_21_22 = add_streak(gl_21_22)\n",
    "gl_22_23 = add_streak(gl_22_23)\n",
    "gl_23_24 = add_streak(gl_23_24)"
   ]
  },
  {
   "cell_type": "code",
   "execution_count": 59,
   "metadata": {},
   "outputs": [],
   "source": [
    "# Adding a feature that tells us how much rest the Fighting Illini had before their current game\n",
    "\n",
    "def add_rest_time(game_log):\n",
    "    # Ensure the Date column is in datetime format and sorted\n",
    "    game_log['Date'] = pd.to_datetime(game_log['Date'])\n",
    "    game_log = game_log.sort_values(by='Date').reset_index(drop=True)\n",
    "    \n",
    "    # Calculate rest days\n",
    "    game_log['Rest Days'] = game_log['Date'].diff().dt.days.fillna(0).astype(int)\n",
    "    \n",
    "    # Fix any negative or unreasonable rest days\n",
    "    game_log['Rest Days'] = game_log['Rest Days'].apply(lambda x: max(x, 0))  # No negative rest days\n",
    "\n",
    "    # Insert Rest Days at the 7th index position\n",
    "    game_log.insert(8, 'Rest Days', game_log.pop('Rest Days'))\n",
    "    \n",
    "    return game_log\n",
    "\n",
    "gl_19_20 = add_rest_time(gl_19_20)\n",
    "gl_20_21 = add_rest_time(gl_20_21)\n",
    "gl_21_20 = add_rest_time(gl_20_21)\n",
    "gl_21_22 = add_rest_time(gl_21_22)\n",
    "gl_22_23 = add_rest_time(gl_22_23)\n",
    "gl_23_24 = add_rest_time(gl_23_24)"
   ]
  },
  {
   "cell_type": "code",
   "execution_count": 60,
   "metadata": {},
   "outputs": [],
   "source": [
    "# Adding a feature that calculates the rolling average of our stats\n",
    "\n",
    "# List of statistical columns for which to calculate rolling averages\n",
    "stats_columns = ['FG', 'FGA', 'FG%', '3P', '3PA', '3P%', 'FT', 'FTA', 'FT%',\n",
    "                 'ORB', 'TRB', 'AST', 'STL', 'BLK', 'TOV', 'PF', \n",
    "                 'OPP FG', 'OPP FGA', 'OPP FG%', 'OPP 3P', 'OPP 3PA', 'OPP 3P%',\n",
    "                 'OPP FT', 'OPP FTA', 'OPP FT%', 'OPP ORB', 'OPP TRB', 'OPP AST',\n",
    "                 'OPP STL', 'OPP BLK', 'OPP TOV', 'OPP PF']\n",
    "\n",
    "# Define a function to add rolling averages\n",
    "def add_rolling_averages(df, window=5):\n",
    "    for col in stats_columns:\n",
    "        rolling_col_name = f\"{col}_rolling_{window}\"\n",
    "        df[rolling_col_name] = df[col].rolling(window=window, min_periods=1).mean()\n",
    "    return df\n",
    "\n",
    "# Apply to each dataset\n",
    "gl_19_20 = add_rolling_averages(gl_19_20)\n",
    "gl_20_21 = add_rolling_averages(gl_20_21)\n",
    "gl_21_22 = add_rolling_averages(gl_21_22)\n",
    "gl_22_23 = add_rolling_averages(gl_22_23)\n",
    "gl_23_24 = add_rolling_averages(gl_23_24)"
   ]
  },
  {
   "cell_type": "code",
   "execution_count": null,
   "metadata": {},
   "outputs": [],
   "source": [
    "all_gl = pd.concat([gl_19_20, gl_20_21, gl_21_22, gl_22_23, gl_23_24], ignore_index=True)\n",
    "all_gl = all_gl.drop(columns='Unnamed: 0')\n",
    "all_gl"
   ]
  },
  {
   "cell_type": "code",
   "execution_count": 62,
   "metadata": {},
   "outputs": [],
   "source": [
    "                # all_gl.to_csv(r'/Users/isaac/Desktop/personal/datadive24/Clean Datasets/All-Clean-Game-Logs.csv')"
   ]
  },
  {
   "cell_type": "code",
   "execution_count": null,
   "metadata": {},
   "outputs": [],
   "source": [
    "# Observe if Rest Days Were Correctly Calculated\n",
    "all_gl['Rest Days'].unique()"
   ]
  },
  {
   "cell_type": "code",
   "execution_count": null,
   "metadata": {},
   "outputs": [],
   "source": [
    "# Rename duplicate column names to be more concise\n",
    "all_gl.rename(columns={'PF': 'Points For', 'PA' : 'Points Against', 'PF.1' : 'PF'}, inplace=True)\n",
    "all_gl"
   ]
  },
  {
   "cell_type": "code",
   "execution_count": null,
   "metadata": {},
   "outputs": [],
   "source": [
    "all_gl.isna().sum()"
   ]
  },
  {
   "cell_type": "code",
   "execution_count": null,
   "metadata": {},
   "outputs": [],
   "source": [
    "# Find the row with missing values\n",
    "lindenwood = all_gl.loc[all_gl['Conf'].isna()]\n",
    "lindenwood"
   ]
  },
  {
   "cell_type": "code",
   "execution_count": null,
   "metadata": {},
   "outputs": [],
   "source": [
    "# Fill in missing conference value\n",
    "lindenwood['Conf'] = 'OVC'\n",
    "lindenwood"
   ]
  },
  {
   "cell_type": "code",
   "execution_count": null,
   "metadata": {},
   "outputs": [],
   "source": [
    "# Fill in missing SRS value with an estimate\n",
    "lindenwood['SRS'] = 42\n",
    "lindenwood"
   ]
  },
  {
   "cell_type": "code",
   "execution_count": 69,
   "metadata": {},
   "outputs": [],
   "source": [
    "all_gl.loc[all_gl['Conf'].isna()] = lindenwood"
   ]
  },
  {
   "cell_type": "code",
   "execution_count": null,
   "metadata": {},
   "outputs": [],
   "source": [
    "all_gl.isna().sum()"
   ]
  },
  {
   "cell_type": "code",
   "execution_count": null,
   "metadata": {},
   "outputs": [],
   "source": [
    "# Calculate the result counts\n",
    "result_counts = all_gl['Result'].value_counts().reset_index()\n",
    "result_counts.columns = ['Result', 'Frequency']\n",
    "\n",
    "sns.set_theme(style=\"whitegrid\")\n",
    "\n",
    "plt.figure(figsize=(10, 6))\n",
    "\n",
    "sns.barplot(data=result_counts, x='Result', y='Frequency', palette=['#E84A27', '#13294b'])\n",
    "\n",
    "plt.xlabel('Game Result', fontsize=14, labelpad=10)\n",
    "plt.ylabel('Frequency', fontsize=14, labelpad=10)\n",
    "plt.title('Frequency of Wins and Losses Over Past 5 Seasons', fontsize=16, pad=15)\n",
    "\n",
    "# Adding value annotations on top of the bars\n",
    "for index, row in result_counts.iterrows():\n",
    "    plt.text(row.name, row.Frequency + 2, row.Frequency, ha='center', va='bottom', fontsize=12)\n",
    "\n",
    "plt.show()\n"
   ]
  },
  {
   "cell_type": "code",
   "execution_count": null,
   "metadata": {},
   "outputs": [],
   "source": [
    "# Observe how well we do against ranked teams\n",
    "plt.figure(figsize=(10, 6))\n",
    "\n",
    "# Create a grouped bar plot using 'Result' and 'Ranked Match' columns\n",
    "plot = sns.countplot(data=all_gl, x='Result', hue='Ranked Match', palette=['#E84A27', '#13294b'])\n",
    "\n",
    "plt.xlabel('Game Result')\n",
    "plt.ylabel('Frequency')\n",
    "plt.title('Wins and Losses by Ranked vs. Non-Ranked Opponents')\n",
    "plt.legend(title='Ranked Match', labels=['Non-Ranked', 'Ranked'])\n",
    "\n",
    "# Adds count at the top of the bar\n",
    "for bar in plot.containers:\n",
    "    plot.bar_label(bar, label_type='edge', padding=5, fontsize=10)\n",
    "\n",
    "plt.show()"
   ]
  },
  {
   "cell_type": "code",
   "execution_count": null,
   "metadata": {},
   "outputs": [],
   "source": [
    "stats = [\n",
    "    'FG', 'FGA', 'FG%', '3P', '3PA', '3P%', 'FT', 'FTA', 'FT%', \n",
    "    'ORB', 'TRB', 'AST', 'STL', 'BLK', 'TOV', 'PF', \n",
    "    'OPP FG', 'OPP FGA', 'OPP FG%', 'OPP 3P', 'OPP 3PA', 'OPP 3P%', \n",
    "    'OPP FT', 'OPP FTA', 'OPP FT%', 'OPP ORB', 'OPP TRB', \n",
    "    'OPP AST', 'OPP STL', 'OPP BLK', 'OPP TOV', 'OPP PF'\n",
    "]\n",
    "\n",
    "# Calculate the mean of each stat grouped by 'Ranked Match'\n",
    "avg_stats = all_gl.groupby('Ranked Match')[stats].mean().reset_index()\n",
    "\n",
    "# Reshape the data to have each stat as a separate entry for grouped plotting\n",
    "avg_stats_melted = avg_stats.melt(id_vars='Ranked Match', var_name='Stat', value_name='Average')\n",
    "\n",
    "plt.figure(figsize=(27, 13))\n",
    "plot = sns.barplot(data=avg_stats_melted, x='Stat', y='Average', hue='Ranked Match', palette=['#E84A27', '#13294b'])\n",
    "\n",
    "plt.xlabel('Game Stats')\n",
    "plt.ylabel('Average Value')\n",
    "plt.title('Average Game Stats by Ranked vs. Non-Ranked Opponents')\n",
    "plt.legend(title='Ranked Match', labels=['Non-Ranked', 'Ranked'])\n",
    "\n",
    "# Adds average value at the top of each bar\n",
    "for bar in plot.containers:\n",
    "    plot.bar_label(bar, fmt=\"%.1f\", label_type='edge', padding=5, fontsize=10)\n",
    "\n",
    "plt.xticks(rotation=45)\n",
    "plt.show()"
   ]
  },
  {
   "cell_type": "code",
   "execution_count": null,
   "metadata": {},
   "outputs": [],
   "source": [
    "# What about for Conference vs. Non-Conference games\n",
    "conf_gl = all_gl.copy()\n",
    "\n",
    "conf_gl['Big_Ten_Opponent'] = conf_gl['Conf'].apply(lambda x: 'Big Ten' if x == 'Big Ten' else 'Non-Big Ten')\n",
    "\n",
    "plt.figure(figsize=(10, 6))\n",
    "\n",
    "plot = sns.countplot(data=conf_gl, x='Result', hue='Big_Ten_Opponent', palette=['#E84A27', '#13294b'])\n",
    "\n",
    "plt.xlabel('Game Result')\n",
    "plt.ylabel('Frequency')\n",
    "plt.title('Wins and Losses by Big Ten vs. Non-Big Ten Opponents')\n",
    "plt.legend(title='Conference', labels=['Non-Big Ten', 'Big Ten'])\n",
    "\n",
    "# Add counts at the top of each bar\n",
    "for bar in plot.containers:\n",
    "    plot.bar_label(bar, label_type='edge', padding=5, fontsize=10)\n",
    "\n",
    "plt.show()"
   ]
  },
  {
   "cell_type": "code",
   "execution_count": null,
   "metadata": {},
   "outputs": [],
   "source": [
    "# What about for Home vs. Away games\n",
    "plt.figure(figsize=(10, 6))\n",
    "\n",
    "plot = sns.countplot(data=all_gl, x='Result', hue='Home Game', palette=['#E84A27', '#13294b'])\n",
    "\n",
    "plt.xlabel('Game Result', fontsize=12)\n",
    "plt.ylabel('Frequency', fontsize=12)\n",
    "plt.title('Wins and Losses by Home vs. Away Games', fontsize=14)\n",
    "plt.legend(title='Location', labels=['Home', 'Away'], fontsize=10)\n",
    "\n",
    "# Add counts at the top of each bar\n",
    "for bar in plot.containers:\n",
    "    plot.bar_label(bar, label_type='edge', padding=5, fontsize=10)\n",
    "\n",
    "plt.tight_layout()\n",
    "plt.show()"
   ]
  },
  {
   "cell_type": "code",
   "execution_count": null,
   "metadata": {},
   "outputs": [],
   "source": [
    "# Observe how the relationship between rest days and game results\n",
    "plt.figure(figsize=(12, 6))\n",
    "\n",
    "# Group data by Rest Days and Result, then count occurrences\n",
    "rest_days_result = all_gl.groupby(['Rest Days', 'Result']).size().reset_index(name='Frequency')\n",
    "\n",
    "plot = sns.barplot(data=rest_days_result, x='Rest Days', y='Frequency', hue='Result', palette=['#E84A27', '#13294b'])\n",
    "\n",
    "plt.xlabel('Rest Days', fontsize=12)\n",
    "plt.ylabel('Frequency', fontsize=12)\n",
    "plt.title('Frequency of Game Results by Rest Days', fontsize=14)\n",
    "plt.legend(title='Game Result', labels=['Loss', 'Win'], fontsize=10)\n",
    "\n",
    "# Add value labels to each bar\n",
    "for bar in plot.containers:\n",
    "    plot.bar_label(bar, label_type='edge', padding=3, fontsize=10)\n",
    "\n",
    "plt.tight_layout()\n",
    "plt.show()"
   ]
  },
  {
   "cell_type": "code",
   "execution_count": null,
   "metadata": {},
   "outputs": [],
   "source": [
    "# Create bins for Rest Days and apply to our graph to better observe any trends\n",
    "bins = [0, 1, 3, 5, 8, 100] \n",
    "labels = ['0', '1-2', '3-4', '5-7', '8+'] \n",
    "all_gl['Rest_Days_Binned'] = pd.cut(all_gl['Rest Days'], bins=bins, labels=labels, right=False)\n",
    "\n",
    "plt.figure(figsize=(12, 7))\n",
    "\n",
    "plot = sns.countplot(data=all_gl, x='Rest_Days_Binned', hue='Result', palette=['#E84A27', '#13294b'])\n",
    "\n",
    "plt.xlabel('Rest Days (Binned)', fontsize=12)\n",
    "plt.ylabel('Frequency', fontsize=12)\n",
    "plt.title('Game Results by Rest Days', fontsize=14)\n",
    "plt.legend(title='Game Result', labels=['Loss', 'Win'])\n",
    "\n",
    "# Add counts at the top of each bar\n",
    "for bar in plot.containers:\n",
    "    plot.bar_label(bar, label_type='edge', padding=5, fontsize=10)\n",
    "\n",
    "plt.tight_layout()\n",
    "plt.show()"
   ]
  },
  {
   "cell_type": "code",
   "execution_count": null,
   "metadata": {},
   "outputs": [],
   "source": [
    "# show the teams we have highest chance of winning against from lowest to highest\n",
    "\n",
    "big_ten_schools = conf_gl[conf_gl['Big_Ten_Opponent'] == 'Big Ten']\n",
    "\n",
    "big_ten_matchups = big_ten_schools.groupby('Opponent').agg(Total_Games=('Opponent', 'size'), \n",
    "    Wins=('Result', lambda x: (x == 'W').sum())).reset_index()\n",
    "\n",
    "big_ten_matchups['Win Percentage'] = (big_ten_matchups['Wins'] / big_ten_matchups['Total_Games']) * 100\n",
    "\n",
    "big_ten_matchups_sorted = big_ten_matchups.sort_values(by='Win Percentage', ascending=False)\n",
    "\n",
    "big_ten_matchups_sorted"
   ]
  },
  {
   "cell_type": "code",
   "execution_count": null,
   "metadata": {},
   "outputs": [],
   "source": [
    "plt.figure(figsize=(10, 6))\n",
    "\n",
    "sns.barplot(data=big_ten_matchups_sorted, x='Opponent', y='Win Percentage', palette=['#E84A27', '#13294b'])\n",
    "\n",
    "plt.title('Win Percentage against Big Ten Schools')\n",
    "plt.xlabel('Opponent')\n",
    "plt.ylabel('Win Percentage (%)')\n",
    "plt.xticks(rotation=90)\n",
    "\n",
    "plt.show()"
   ]
  },
  {
   "cell_type": "code",
   "execution_count": null,
   "metadata": {},
   "outputs": [],
   "source": [
    "# Make a numeric only game log data frame for our correlation matrix\n",
    "num_gl = all_gl.copy()\n",
    "num_gl['Result'] = num_gl['Result'].apply(lambda x: 1 if x == 'W' else 0)\n",
    "num_gl['Ranked Match'] = num_gl['Ranked Match'].apply(lambda x: 1 if x == True else 0)\n",
    "num_gl['Home Game'] = num_gl['Home Game'].apply(lambda x: 1 if x == True else 0)\n",
    "num_gl['Type'] = num_gl['Type'].astype('category').cat.codes\n",
    "num_gl['Conf'] = num_gl['Conf'].astype('category').cat.codes\n",
    "num_gl = num_gl.drop(columns=['Season','Date','Time','Rank','Opponent', 'Rest_Days_Binned'])\n",
    "num_gl"
   ]
  },
  {
   "cell_type": "code",
   "execution_count": null,
   "metadata": {},
   "outputs": [],
   "source": [
    "# Create correlation matrix\n",
    "gl_corr = num_gl.corr()\n",
    "gl_corr"
   ]
  },
  {
   "cell_type": "code",
   "execution_count": null,
   "metadata": {},
   "outputs": [],
   "source": [
    "# The variables that have the most affect on the Result column in order\n",
    "pd.set_option('display.max_rows', None)\n",
    "result_corr = gl_corr['Result'].drop('Result')\n",
    "result_corr = result_corr.abs().sort_values(ascending=False)\n",
    "result_corr = result_corr.reset_index()\n",
    "result_corr.columns = ['Variable', 'Correlation with Result']\n",
    "result_corr"
   ]
  },
  {
   "cell_type": "code",
   "execution_count": null,
   "metadata": {},
   "outputs": [],
   "source": [
    "# Visualization to easily view what variables had the highest correlation with result\n",
    "plt.figure(figsize=(12, 8))\n",
    "sns.barplot(data=result_corr, x='Variable', y='Correlation with Result', color='orange')\n",
    "plt.xticks(rotation=90)\n",
    "plt.title('Correlation of Variables with Game Result')\n",
    "plt.xlabel('Variable')\n",
    "plt.ylabel('Correlation with Result')\n",
    "plt.show()"
   ]
  },
  {
   "cell_type": "code",
   "execution_count": null,
   "metadata": {},
   "outputs": [],
   "source": [
    "import warnings\n",
    "warnings.filterwarnings('ignore') #mutes warnings for 2021 and 2122 \n",
    "\n",
    "s1920 = ['19-20', '19-20', '19-20', '19-20', '19-20', '19-20', '19-20', \n",
    "         '19-20', '19-20', '19-20' , '19-20', '19-20', '19-20', '19-20']\n",
    "roster_19_20['Season'] = s1920 # add season columns to rosters for analysis later\n",
    "\n",
    "s2021 = ['20-21', '20-21', '20-21', '20-21', '20-21', '20-21', '20-21'\n",
    "         '20-21', '20-21', '20-21', '20-21', '20-21', '20-21', '20-21', '20-21', '20-21']\n",
    "roster_20_21['Season'] = s2021\n",
    "roster_20_21['Season'][6] = '20-21'\n",
    "\n",
    "s2122 = ['21-22', '21-22', '21-22', '21-22', '21-22', '21-22', '21-22'\n",
    "         '21-22', '21-22', '21-22', '21-22', '21-22', '21-22', '21-22', '21-22', '21-22']\n",
    "roster_21_22['Season'] = s2122\n",
    "roster_21_22['Season'][6] = '21-22'\n",
    "\n",
    "\n",
    "s2223 = ['22-23', '22-23', '22-23', '22-23', '22-23',\n",
    "         '22-23', '22-23', '22-23', '22-23', '22-23', \n",
    "         '22-23', '22-23', '22-23', '22-23', '22-23']\n",
    "roster_22_23['Season'] = s2223\n",
    "\n",
    "s2324 = ['23-24', '23-24', '23-24', '23-24', '23-24', '23-24',\n",
    "         '23-24', '23-24', '23-24', '23-24', '23-24', '23-24'\n",
    "         ,'23-24']\n",
    "roster_23_24['Season'] = s2324\n",
    "\n",
    "\n",
    "all_rosters = pd.concat([roster_19_20, roster_20_21, roster_21_22, roster_22_23, roster_23_24], ignore_index= True)\n",
    "count_players = all_rosters['Player'].value_counts()\n",
    "multiple_season = count_players[count_players > 1].index.to_list()\n",
    "attributes = ['Player', 'Season', 'PTS', 'AST']\n",
    "roster_performance = all_rosters[all_rosters['Player'].isin(multiple_season)][attributes]\n",
    "player_pts = roster_performance.pivot(index = 'Season', columns = 'Player', values = 'PTS')\n",
    "plt.figure(figsize = (10,8))\n",
    "player_pts\n",
    "for player in player_pts.columns :\n",
    "    plt.plot(player_pts.index, player_pts[player], marker = 'o', label = player)\n",
    "\n",
    "plt.title('Points Per Game Trends for Players Across Seasons')\n",
    "plt.xlabel('Season')\n",
    "plt.ylabel('Points Per Game')\n",
    "plt.xticks(rotation=45)\n",
    "plt.legend(title='Player', bbox_to_anchor=(1.05, 1), loc='upper left')\n",
    "plt.tight_layout()\n",
    "plt.show()"
   ]
  },
  {
   "cell_type": "code",
   "execution_count": null,
   "metadata": {},
   "outputs": [],
   "source": [
    "if 'Pos' in all_rosters.columns and 'PTS' in all_rosters.columns: \n",
    "    position = all_rosters['Pos'].unique()\n",
    "    for pos in position:\n",
    "        position_data = all_rosters[all_rosters['Pos'] == pos]\n",
    "        pts_for_pos = position_data.pivot(index = 'Season', columns = 'Player', values = 'PTS')\n",
    "        plt.figure(figsize = (10,6))\n",
    "        for player in pts_for_pos.columns: \n",
    "            plt.plot(pts_for_pos.index, pts_for_pos[player], marker = 'o', label = player)\n",
    "        plt.title(f'Points Per Game Trends by Season for {pos} Position')\n",
    "        plt.xlabel('Season')\n",
    "        plt.ylabel('Points Per Game')\n",
    "        plt.legend(title='Player', bbox_to_anchor=(1.05, 1), loc='upper left')\n",
    "        plt.xticks(rotation=45)\n",
    "        plt.tight_layout()\n",
    "        plt.show()"
   ]
  },
  {
   "cell_type": "code",
   "execution_count": 86,
   "metadata": {},
   "outputs": [],
   "source": [
    "#Code below makes a linear regression model predicting points based on various metrics \n",
    "\n",
    "all_rosters[['Feet', 'Inches']] = all_rosters['Height'].str.split('-', expand= True)\n",
    "all_rosters['Feet'] = all_rosters['Feet'].astype(int)\n",
    "all_rosters['Inches'] = all_rosters['Inches'].astype(int)\n",
    "all_rosters['Height(inches)'] = all_rosters['Feet'] * 12 + all_rosters['Inches']\n",
    "all_rosters.drop(columns = ['Unnamed: 0']) #converts the height to inches for linear regression model and also cleans it up a little\n",
    "all_rosters['Predicted PTS'] = all_rosters['PTS']"
   ]
  },
  {
   "cell_type": "code",
   "execution_count": null,
   "metadata": {},
   "outputs": [],
   "source": [
    "x = all_rosters[['PTS', 'AST', 'Height(inches)', 'Weight']]\n",
    "y = all_rosters['Predicted PTS']\n",
    "\n",
    "drop_na = pd.concat([x, y], axis = 1).dropna()\n",
    "\n",
    "x_c = drop_na[['PTS', 'AST', 'Height(inches)', 'Weight']]\n",
    "y_c = drop_na['Predicted PTS']\n",
    "\n",
    "x_train, x_test, y_train, y_test = train_test_split(x_c, y_c, test_size = 0.3, random_state = 42)\n",
    "\n",
    "model = LinearRegression()\n",
    "model.fit(x_train, y_train)\n",
    "predictions = model.predict(x_test)\n",
    "predictions"
   ]
  },
  {
   "cell_type": "code",
   "execution_count": null,
   "metadata": {},
   "outputs": [],
   "source": [
    "y_test"
   ]
  },
  {
   "cell_type": "code",
   "execution_count": null,
   "metadata": {},
   "outputs": [],
   "source": [
    "mse = mean_squared_error(y_test, predictions)\n",
    "r2 = r2_score(y_test, predictions)\n",
    "print(\"MSE = \" + mse.astype(str) + \"\\n\" + \"R^2 = \" + r2.astype(str))"
   ]
  },
  {
   "cell_type": "code",
   "execution_count": null,
   "metadata": {},
   "outputs": [],
   "source": [
    "all_rosters"
   ]
  },
  {
   "cell_type": "code",
   "execution_count": null,
   "metadata": {},
   "outputs": [],
   "source": [
    "selected_columns = [\n",
    "    'Player', 'Pos', 'G', 'GS', 'MP', 'FG', 'FGA', 'FG%', '3P', '3PA', \n",
    "    '3P%', '2P', '2PA', '2P%', 'FT', 'FTA', 'FT%', 'TRB', 'AST', 'STL', \n",
    "    'BLK', 'TOV', 'PTS', 'Height(inches)'\n",
    "]\n",
    "\n",
    "df_selected_outliers = all_rosters[selected_columns]\n",
    "df_selected_outliers"
   ]
  },
  {
   "cell_type": "code",
   "execution_count": null,
   "metadata": {},
   "outputs": [],
   "source": [
    "# looking for outliers within specific features\n",
    "\n",
    "plt.figure(figsize=(15, 10))\n",
    "df_selected_outliers.boxplot()\n",
    "plt.xticks(rotation = 90) \n",
    "plt.title(\"Boxplot of Selected Features to Identify Outliers\")\n",
    "plt.show()"
   ]
  },
  {
   "cell_type": "code",
   "execution_count": null,
   "metadata": {},
   "outputs": [],
   "source": [
    "from scipy.stats import zscore\n",
    "\n",
    "z_scores = df_selected_outliers.select_dtypes(include=['float64', 'int']).apply(zscore)\n",
    "\n",
    "outliers = (z_scores.abs() > 3).any(axis=1)\n",
    "df_outliers = df_selected_outliers[outliers]\n",
    "df_outliers"
   ]
  },
  {
   "cell_type": "code",
   "execution_count": null,
   "metadata": {},
   "outputs": [],
   "source": [
    "plt.figure(figsize=(12, 8))\n",
    "sns.boxplot(data=df_selected_outliers[['MP', 'PTS']])\n",
    "plt.title(\"Boxplot of Minutes Played and Points\")\n",
    "plt.xlabel(\"Metrics\")\n",
    "plt.ylabel(\"Values\")\n",
    "plt.show()"
   ]
  },
  {
   "cell_type": "code",
   "execution_count": null,
   "metadata": {},
   "outputs": [],
   "source": [
    "numeric_roster = all_rosters.select_dtypes(include=[np.number])\n",
    "corr = numeric_roster.corr()\n",
    "plt.figure(figsize=(12, 10))\n",
    "\n",
    "sns.heatmap(corr, annot=True, fmt=\".2f\", cmap='coolwarm',\n",
    "            xticklabels=corr.columns, yticklabels=corr.columns)\n",
    "\n",
    "plt.xticks(rotation=45, ha='right')\n",
    "plt.yticks(rotation=0)\n",
    "plt.title('Correlation Matrix Heatmap')\n",
    "plt.show()"
   ]
  }
 ],
 "metadata": {
  "kernelspec": {
   "display_name": "lyons kernel",
   "language": "python",
   "name": "lyons"
  },
  "language_info": {
   "codemirror_mode": {
    "name": "ipython",
    "version": 3
   },
   "file_extension": ".py",
   "mimetype": "text/x-python",
   "name": "python",
   "nbconvert_exporter": "python",
   "pygments_lexer": "ipython3",
   "version": "3.11.9"
  },
  "orig_nbformat": 4
 },
 "nbformat": 4,
 "nbformat_minor": 2
}
